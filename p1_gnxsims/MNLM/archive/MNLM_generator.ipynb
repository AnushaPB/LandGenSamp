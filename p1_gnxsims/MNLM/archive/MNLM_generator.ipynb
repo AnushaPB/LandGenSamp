{
 "cells": [
  {
   "cell_type": "code",
   "execution_count": 3,
   "metadata": {},
   "outputs": [],
   "source": [
    "import nlmpy\n",
    "from nlmpy import nlmpy\n",
    "import numpy as np"
   ]
  },
  {
   "cell_type": "code",
   "execution_count": null,
   "metadata": {},
   "outputs": [],
   "source": [
    "for seed in [1, 2, 3]:\n",
    "    r = 0\n",
    "    rmax = 0\n",
    "    count = 1\n",
    "    np.random.seed(seed)\n",
    "    for H in [0.5, 0.2]:\n",
    "        env1 = nlmpy.mpd(nRow, nCol, H)\n",
    "        env1sub = [item for sublist in env1 for item in sublist]\n",
    "        np.savetxt(\"data/\"+\"seed\"+str(seed)+\"env1_H\"+str(H*10)+\".csv\", env1, delimiter=\",\")\n",
    "        for rfix in [0.6, 0.3]:\n",
    "            while(r != rfix):\n",
    "            env2 = nlmpy.mpd(nRow, nCol, H)\n",
    "            env2sub = [item for sublist in env2 for item in sublist]\n",
    "            r = np.corrcoef(env1sub,env2sub)[1][0].round(1)\n",
    "            count = count + 1\n",
    "            if(rmax < r):\n",
    "                rmax = r\n",
    "                print(rmax)\n",
    "            print(count)\n",
    "            np.savetxt(\"data/\"+\"seed\"+str(seed)+\"env2_H\"+str(H*10)+\"_r\"+str(r*10)+\".csv\", env2, delimiter=\",\")\n",
    "            "
   ]
  },
  {
   "cell_type": "code",
   "execution_count": 19,
   "metadata": {},
   "outputs": [
    {
     "name": "stdout",
     "output_type": "stream",
     "text": [
      "H=0.5 & r=0.3 finished in 9 its\n",
      "H=0.5 & r=0.6 finished in 398 its\n",
      "H=0.2 & r=0.3 finished in 8 its\n",
      "H=0.2 & r=0.6 finished in 31011 its\n",
      "Seed 1 complete\n"
     ]
    }
   ],
   "source": [
    "nRow = 40\n",
    "nCol = 40\n",
    "\n",
    "for seed in [1]:\n",
    "    np.random.seed(seed)\n",
    "    for H in [0.5, 0.2]:\n",
    "        env1 = nlmpy.mpd(nRow, nCol, H)\n",
    "        env1sub = [item for sublist in env1 for item in sublist]\n",
    "        np.savetxt(\"data/\"+\"seed\"+str(seed)+\"_env1_H0\"+str(int(H*10))+\".csv\", env1, delimiter=\",\")\n",
    "        for rfix in [0.3, 0.6]:\n",
    "            r = 0\n",
    "            count = 1\n",
    "            while(r != rfix):\n",
    "                env2 = nlmpy.mpd(nRow, nCol, H)\n",
    "                env2sub = [item for sublist in env2 for item in sublist]\n",
    "                r = np.corrcoef(env1sub,env2sub)[1][0].round(1)\n",
    "                count = count + 1\n",
    "                if(rmax < r):\n",
    "                    rmax = r\n",
    "                    print(rmax)\n",
    "            print(\"H=\"+str(H)+\" & r=\"+str(rfix)+\" finished in \"+str(count)+\" its\")\n",
    "            np.savetxt(\"data/\"+\"seed\"+str(seed)+\"_env2_H0\"+str(int(H*10))+\"_r0\"+str(int(r*10))+\".csv\", env2, delimiter=\",\")\n",
    "    print(\"Seed \"+str(seed)+\" complete\")\n",
    "            "
   ]
  },
  {
   "cell_type": "code",
   "execution_count": null,
   "metadata": {},
   "outputs": [
    {
     "name": "stdout",
     "output_type": "stream",
     "text": [
      "H=0.5 & r=0.3 finished in 2 its\n",
      "H=0.5 & r=0.6 finished in 6 its\n",
      "H=0.2 & r=0.3 finished in 2 its\n",
      "H=0.2 & r=0.6 finished in 56 its\n",
      "Seed 2 complete\n",
      "H=0.5 & r=0.3 finished in 5 its\n",
      "H=0.5 & r=0.6 finished in 43 its\n",
      "H=0.2 & r=0.3 finished in 9 its\n"
     ]
    }
   ],
   "source": [
    "#define dimensions of landscape\n",
    "nRow = 40\n",
    "nCol = 40\n",
    "\n",
    "#for loop to generate three sets of MNLMs based on three seeds \n",
    "for seed in [2, 3]:\n",
    "    #set random seed\n",
    "    np.random.seed(seed)\n",
    "    for H in [0.5, 0.2]:\n",
    "        #create baseline mpd NLM\n",
    "        env1 = nlmpy.mpd(nRow, nCol, H)\n",
    "        #list values for calculating correlation\n",
    "        env1sub = [item for sublist in env1 for item in sublist]\n",
    "        #save baseline mpd NLM\n",
    "        np.savetxt(\"data/\"+\"seed\"+str(seed)+\"_env1_H0\"+str(int(H*10))+\".csv\", env1, delimiter=\",\")\n",
    "        #loop to get different levels of correlation between NLM layers\n",
    "        #weak r = 0.3, strong r = 0.6\n",
    "        for rfix in [0.3, 0.6]:\n",
    "            #set r to 0 for while loop\n",
    "            r = 0 \n",
    "            #set count to 1 for counting the number of iterations in the while loop\n",
    "            count = 1 \n",
    "            #while loop will run until the rfix is matched (to one sigfig)\n",
    "            while(r != rfix):\n",
    "                #generate second NLM\n",
    "                env2 = nlmpy.mpd(nRow, nCol, H)\n",
    "                #list values for calculating correlation\n",
    "                env2sub = [item for sublist in env2 for item in sublist]\n",
    "                \n",
    "                #calculate correlation between env1 and env 2 and round to one digit\n",
    "                r = np.corrcoef(env1sub,env2sub)[1][0].round(1) \n",
    "                \n",
    "                #add to count\n",
    "                count = count + 1\n",
    "            #prints that while loop is finished and how many its it took\n",
    "            print(\"H=\"+str(H)+\" & r=\"+str(rfix)+\" finished in \"+str(count)+\" its\")\n",
    "            #save second mpd NLM\n",
    "            np.savetxt(\"data/\"+\"seed\"+str(seed)+\"_env2_H0\"+str(int(H*10))+\"_r0\"+str(int(r*10))+\".csv\", env2, delimiter=\",\")\n",
    "    #print seed complete\n",
    "    print(\"Seed \"+str(seed)+\" complete\")\n",
    "            "
   ]
  },
  {
   "cell_type": "code",
   "execution_count": null,
   "metadata": {},
   "outputs": [],
   "source": []
  }
 ],
 "metadata": {
  "kernelspec": {
   "display_name": "Python 3",
   "language": "python",
   "name": "python3"
  },
  "language_info": {
   "codemirror_mode": {
    "name": "ipython",
    "version": 3
   },
   "file_extension": ".py",
   "mimetype": "text/x-python",
   "name": "python",
   "nbconvert_exporter": "python",
   "pygments_lexer": "ipython3",
   "version": "3.7.1"
  }
 },
 "nbformat": 4,
 "nbformat_minor": 4
}
